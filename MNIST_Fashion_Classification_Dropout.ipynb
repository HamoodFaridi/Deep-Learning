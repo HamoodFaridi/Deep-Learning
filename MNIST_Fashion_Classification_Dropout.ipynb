{
  "nbformat": 4,
  "nbformat_minor": 0,
  "metadata": {
    "colab": {
      "name": "MNIST_Fashion_Classification_Dropout.ipynb",
      "provenance": [],
      "collapsed_sections": [],
      "mount_file_id": "1wonAbprJdOqyJ6HxQ_pJGtb0gd2NgLnG",
      "authorship_tag": "ABX9TyMOYD41ibMGr7IsnLYtmCED",
      "include_colab_link": true
    },
    "kernelspec": {
      "name": "python3",
      "display_name": "Python 3"
    },
    "accelerator": "GPU"
  },
  "cells": [
    {
      "cell_type": "markdown",
      "metadata": {
        "id": "view-in-github",
        "colab_type": "text"
      },
      "source": [
        "<a href=\"https://colab.research.google.com/github/HamoodFaridi/Deep-Learning/blob/master/MNIST_Fashion_Classification_Dropout.ipynb\" target=\"_parent\"><img src=\"https://colab.research.google.com/assets/colab-badge.svg\" alt=\"Open In Colab\"/></a>"
      ]
    },
    {
      "cell_type": "code",
      "metadata": {
        "id": "HZXFazhEd7hJ"
      },
      "source": [
        "import keras\n",
        "from keras.datasets.fashion_mnist import load_data\n",
        "from sklearn.model_selection import train_test_split\n",
        "from keras.utils import to_categorical\n",
        "from keras.layers import Input, ZeroPadding2D, Conv2D, BatchNormalization, Activation, MaxPool2D, Flatten, Dense, Dropout\n",
        "from keras.models import Model, model_from_json\n",
        "from sklearn.metrics import confusion_matrix, classification_report\n",
        "import matplotlib.pyplot as plt\n",
        "import numpy as np\n",
        "import pandas as pd"
      ],
      "execution_count": null,
      "outputs": []
    },
    {
      "cell_type": "code",
      "metadata": {
        "id": "x2QCYqgreeCH"
      },
      "source": [
        "def load_dataset():\n",
        "  (X_train, Y_train), (X_val_test, Y_val_test) = load_data()\n",
        "  X_train = X_train.reshape((X_train.shape[0], 28, 28, 1))\n",
        "  X_val_test = X_val_test.reshape((X_val_test.shape[0], 28, 28, 1))\n",
        "  Y_train = to_categorical(Y_train)\n",
        "  Y_val_test = to_categorical(Y_val_test)\n",
        "  return X_train, Y_train, X_val_test, Y_val_test\n",
        "\n",
        "def model(input_shape, classes=10):\n",
        "  X_input = Input(shape=input_shape)\n",
        "  X = ZeroPadding2D((3, 3))(X_input)\n",
        "  # Layer 1\n",
        "  X = Conv2D(32, (3, 3), strides=(1, 1), name='Conv1')(X)\n",
        "  X = Dropout(rate=0.2)(X)\n",
        "  X = Activation('relu')(X)\n",
        "  X = MaxPool2D(pool_size=(2, 2), name='max_pool1')(X)\n",
        "  # Layer 2\n",
        "  X = Conv2D(64, (3, 3), strides=(1, 1), name='Conv2')(X)\n",
        "  X = Dropout(rate=0.3)(X)\n",
        "  X = Activation('relu')(X)\n",
        "  X = MaxPool2D(pool_size=(2, 2), name='max_pool2')(X)\n",
        "  # Layer 3\n",
        "  X = Conv2D(128, (3, 3), strides=(1, 1), name='Conv3')(X)\n",
        "  X = Dropout(rate=0.2)(X)\n",
        "  X = Activation('relu')(X)\n",
        "  X = MaxPool2D(pool_size=(2, 2), name='max_pool3')(X)\n",
        "  # Flatten layer before feeding it in the dense layer. After flattening, all neurons of input layer are connected\n",
        "  # to all the neurons of the next (Dense) layer\n",
        "  X = Flatten()(X)\n",
        "  X = Dense(256, activation='relu')(X)\n",
        "  X = Dense(classes, activation='softmax', name='fc' + str(classes))(X)\n",
        "\n",
        "  model = Model(inputs=X_input, outputs=X, name='TestModel_BN')\n",
        "\n",
        "  return model\n",
        "\n",
        "def plot_model():\n",
        "    plt.plot(history.history['accuracy'])\n",
        "    plt.plot(history.history['val_accuracy'])\n",
        "    plt.title('model accuracy')\n",
        "    plt.ylabel('accuracy')\n",
        "    plt.xlabel('epoch')\n",
        "    plt.legend(['train', 'val'], loc='lower right')\n",
        "    plt.show()\n",
        "\n",
        "    # summarize history for loss\n",
        "    plt.plot(history.history['loss'])\n",
        "    plt.plot(history.history['val_loss'])\n",
        "    plt.title('model loss')\n",
        "    plt.ylabel('loss')\n",
        "    plt.xlabel('epoch')\n",
        "    plt.legend(['train', 'val'], loc='upper right')\n",
        "    plt.show()\n",
        "\n",
        "def Normalize(data, mean_data =None, std_data =None):\n",
        "    if not mean_data:\n",
        "        mean_data = np.mean(data)\n",
        "    if not std_data:\n",
        "        std_data = np.std(data)\n",
        "    norm_data = (data-mean_data)/std_data\n",
        "    return norm_data, mean_data, std_data"
      ],
      "execution_count": null,
      "outputs": []
    },
    {
      "cell_type": "code",
      "metadata": {
        "id": "LR67TVVaK_6o",
        "outputId": "09621a57-aebc-41fe-ef14-39d4aeb7114c",
        "colab": {
          "base_uri": "https://localhost:8080/",
          "height": 1000
        }
      },
      "source": [
        "# The loading dataset fuction also takes care of ctegorical representation of output labels.\n",
        "X_train, Y_train, X_val_test, Y_val_test = load_dataset()\n",
        "# Preporcessing step to normalize the dataset in order to scale the data in the same range.\n",
        "X_train, mean_data, std_data = Normalize(X_train)\n",
        "# Splitting the dataset into train and test to divide between validation and test dataset\n",
        "X_val, X_test, Y_val, Y_test = train_test_split(X_val_test, Y_val_test, test_size = 0.2, random_state = 42)\n",
        "# Normalizing the validation and test dataset\n",
        "X_val, _, _ = Normalize(X_val, mean_data, std_data)\n",
        "X_test, a, b = Normalize(X_test, mean_data, std_data)\n",
        "# X_val = X_val / 255.\n",
        "model = model(X_train.shape[1:], classes=10)\n",
        "model.compile(optimizer='SGD', loss='categorical_crossentropy', metrics='accuracy')\n",
        "history = model.fit(X_train, Y_train, batch_size=16, epochs=30, validation_data=(X_val, Y_val))"
      ],
      "execution_count": null,
      "outputs": [
        {
          "output_type": "stream",
          "text": [
            "Epoch 1/30\n",
            "3750/3750 [==============================] - 12s 3ms/step - loss: 0.6012 - accuracy: 0.7794 - val_loss: 0.5353 - val_accuracy: 0.8511\n",
            "Epoch 2/30\n",
            "3750/3750 [==============================] - 11s 3ms/step - loss: 0.3963 - accuracy: 0.8553 - val_loss: 0.4424 - val_accuracy: 0.8654\n",
            "Epoch 3/30\n",
            "3750/3750 [==============================] - 11s 3ms/step - loss: 0.3461 - accuracy: 0.8733 - val_loss: 0.4189 - val_accuracy: 0.8765\n",
            "Epoch 4/30\n",
            "3750/3750 [==============================] - 11s 3ms/step - loss: 0.3156 - accuracy: 0.8827 - val_loss: 0.3835 - val_accuracy: 0.8865\n",
            "Epoch 5/30\n",
            "3750/3750 [==============================] - 11s 3ms/step - loss: 0.2964 - accuracy: 0.8909 - val_loss: 0.3707 - val_accuracy: 0.8873\n",
            "Epoch 6/30\n",
            "3750/3750 [==============================] - 11s 3ms/step - loss: 0.2818 - accuracy: 0.8969 - val_loss: 0.3586 - val_accuracy: 0.8861\n",
            "Epoch 7/30\n",
            "3750/3750 [==============================] - 11s 3ms/step - loss: 0.2706 - accuracy: 0.9002 - val_loss: 0.3350 - val_accuracy: 0.8935\n",
            "Epoch 8/30\n",
            "3750/3750 [==============================] - 11s 3ms/step - loss: 0.2595 - accuracy: 0.9035 - val_loss: 0.3203 - val_accuracy: 0.8996\n",
            "Epoch 9/30\n",
            "3750/3750 [==============================] - 11s 3ms/step - loss: 0.2494 - accuracy: 0.9086 - val_loss: 0.3098 - val_accuracy: 0.8992\n",
            "Epoch 10/30\n",
            "3750/3750 [==============================] - 11s 3ms/step - loss: 0.2433 - accuracy: 0.9101 - val_loss: 0.3150 - val_accuracy: 0.8981\n",
            "Epoch 11/30\n",
            "3750/3750 [==============================] - 11s 3ms/step - loss: 0.2350 - accuracy: 0.9124 - val_loss: 0.2941 - val_accuracy: 0.9066\n",
            "Epoch 12/30\n",
            "3750/3750 [==============================] - 11s 3ms/step - loss: 0.2287 - accuracy: 0.9150 - val_loss: 0.3006 - val_accuracy: 0.9066\n",
            "Epoch 13/30\n",
            "3750/3750 [==============================] - 11s 3ms/step - loss: 0.2221 - accuracy: 0.9173 - val_loss: 0.2955 - val_accuracy: 0.9003\n",
            "Epoch 14/30\n",
            "3750/3750 [==============================] - 11s 3ms/step - loss: 0.2167 - accuracy: 0.9186 - val_loss: 0.2723 - val_accuracy: 0.9076\n",
            "Epoch 15/30\n",
            "3750/3750 [==============================] - 12s 3ms/step - loss: 0.2112 - accuracy: 0.9226 - val_loss: 0.2897 - val_accuracy: 0.9040\n",
            "Epoch 16/30\n",
            "3750/3750 [==============================] - 11s 3ms/step - loss: 0.2044 - accuracy: 0.9235 - val_loss: 0.2721 - val_accuracy: 0.9104\n",
            "Epoch 17/30\n",
            "3750/3750 [==============================] - 11s 3ms/step - loss: 0.2011 - accuracy: 0.9249 - val_loss: 0.2652 - val_accuracy: 0.9105\n",
            "Epoch 18/30\n",
            "3750/3750 [==============================] - 11s 3ms/step - loss: 0.1959 - accuracy: 0.9265 - val_loss: 0.2635 - val_accuracy: 0.9082\n",
            "Epoch 19/30\n",
            "3750/3750 [==============================] - 11s 3ms/step - loss: 0.1914 - accuracy: 0.9277 - val_loss: 0.2523 - val_accuracy: 0.9103\n",
            "Epoch 20/30\n",
            "3750/3750 [==============================] - 11s 3ms/step - loss: 0.1879 - accuracy: 0.9285 - val_loss: 0.2764 - val_accuracy: 0.9034\n",
            "Epoch 21/30\n",
            "3750/3750 [==============================] - 11s 3ms/step - loss: 0.1828 - accuracy: 0.9309 - val_loss: 0.2707 - val_accuracy: 0.9054\n",
            "Epoch 22/30\n",
            "3750/3750 [==============================] - 11s 3ms/step - loss: 0.1803 - accuracy: 0.9328 - val_loss: 0.2649 - val_accuracy: 0.9076\n",
            "Epoch 23/30\n",
            "3750/3750 [==============================] - 11s 3ms/step - loss: 0.1759 - accuracy: 0.9338 - val_loss: 0.2400 - val_accuracy: 0.9140\n",
            "Epoch 24/30\n",
            "3750/3750 [==============================] - 11s 3ms/step - loss: 0.1732 - accuracy: 0.9350 - val_loss: 0.2396 - val_accuracy: 0.9129\n",
            "Epoch 25/30\n",
            "3750/3750 [==============================] - 11s 3ms/step - loss: 0.1702 - accuracy: 0.9358 - val_loss: 0.2530 - val_accuracy: 0.9112\n",
            "Epoch 26/30\n",
            "3750/3750 [==============================] - 11s 3ms/step - loss: 0.1699 - accuracy: 0.9354 - val_loss: 0.2591 - val_accuracy: 0.9105\n",
            "Epoch 27/30\n",
            "3750/3750 [==============================] - 11s 3ms/step - loss: 0.1640 - accuracy: 0.9389 - val_loss: 0.2361 - val_accuracy: 0.9149\n",
            "Epoch 28/30\n",
            "3750/3750 [==============================] - 11s 3ms/step - loss: 0.1587 - accuracy: 0.9393 - val_loss: 0.2373 - val_accuracy: 0.9165\n",
            "Epoch 29/30\n",
            "3750/3750 [==============================] - 11s 3ms/step - loss: 0.1583 - accuracy: 0.9401 - val_loss: 0.2511 - val_accuracy: 0.9107\n",
            "Epoch 30/30\n",
            "3750/3750 [==============================] - 11s 3ms/step - loss: 0.1541 - accuracy: 0.9412 - val_loss: 0.2317 - val_accuracy: 0.9151\n"
          ],
          "name": "stdout"
        }
      ]
    },
    {
      "cell_type": "code",
      "metadata": {
        "id": "62_6FE_wJdF5",
        "outputId": "5c49aaf5-b947-42fb-adb8-b8c2f61a942a",
        "colab": {
          "base_uri": "https://localhost:8080/",
          "height": 34
        }
      },
      "source": [
        "#Saving the model and the weights to the disk\n",
        "model_json = model.to_json()\n",
        "with open('./Model_Weights/MNIST_Fashion/Keras_Dropout/mnist_model_dropout.json', 'w') as json_file:\n",
        "    json_file.write(model_json)\n",
        "model.save_weights('./Model_Weights/MNIST_Fashion/Keras_Dropout/mnist_weights_dropout.h5')\n",
        "print(\"Saved model to disk\")"
      ],
      "execution_count": null,
      "outputs": [
        {
          "output_type": "stream",
          "text": [
            "Saved model to disk\n"
          ],
          "name": "stdout"
        }
      ]
    },
    {
      "cell_type": "code",
      "metadata": {
        "id": "pypPf3yPNj8d",
        "outputId": "2e3a8a1c-6f05-4e9f-8570-d8c67c65811b",
        "colab": {
          "base_uri": "https://localhost:8080/",
          "height": 68
        }
      },
      "source": [
        "# Evaluate model on test dataset\n",
        "preds = model.evaluate(X_test, Y_test)\n",
        "print (\"Loss = \" + str(preds[0]))\n",
        "\n",
        "print (\"Test Accuracy is {:2.2f} %\".format(preds[1] * 100))"
      ],
      "execution_count": null,
      "outputs": [
        {
          "output_type": "stream",
          "text": [
            "63/63 [==============================] - 0s 3ms/step - loss: 0.2218 - accuracy: 0.9210\n",
            "Loss = 0.22178548574447632\n",
            "Test Accuracy is 92.10 %\n"
          ],
          "name": "stdout"
        }
      ]
    },
    {
      "cell_type": "code",
      "metadata": {
        "id": "4I0b7n6jcaCG",
        "outputId": "4f2265c0-7b06-45d4-d6e5-af1aaeb2a3f6",
        "colab": {
          "base_uri": "https://localhost:8080/",
          "height": 306
        }
      },
      "source": [
        "# Dsiplaying the classification Report \n",
        "labelNames = [\"T-shirt/Top\", \"Trouser\", \"Pullover\", \"Dress\", \"Coat\",\n",
        "\t\"Sandal\", \"Shirt\", \"Sneaker\", \"Bag\", \"Ankle boot\"]\n",
        "prediction = model.predict(X_test)\n",
        "y_pred = np.argmax(prediction, axis = 1)\n",
        "print(classification_report(Y_test.argmax(axis=1), y_pred=y_pred, target_names=labelNames))"
      ],
      "execution_count": null,
      "outputs": [
        {
          "output_type": "stream",
          "text": [
            "              precision    recall  f1-score   support\n",
            "\n",
            "         top       0.86      0.88      0.87       168\n",
            "     trouser       0.99      0.98      0.99       198\n",
            "    pullover       0.92      0.88      0.90       223\n",
            "       dress       0.94      0.93      0.93       199\n",
            "        coat       0.89      0.84      0.87       186\n",
            "      sandal       0.97      0.99      0.98       211\n",
            "       shirt       0.74      0.80      0.77       198\n",
            "     sneaker       0.92      0.98      0.95       210\n",
            "         bag       0.99      0.99      0.99       191\n",
            "  ankle boot       0.99      0.92      0.96       216\n",
            "\n",
            "    accuracy                           0.92      2000\n",
            "   macro avg       0.92      0.92      0.92      2000\n",
            "weighted avg       0.92      0.92      0.92      2000\n",
            "\n"
          ],
          "name": "stdout"
        }
      ]
    },
    {
      "cell_type": "code",
      "metadata": {
        "id": "0l_Ofi8hKmtY",
        "outputId": "15924ecb-033b-4986-f21d-b87bda402bdd",
        "colab": {
          "base_uri": "https://localhost:8080/",
          "height": 238
        }
      },
      "source": [
        "# Dsiplaying the confusion matrix\n",
        "# print(pd.DataFrame(confusion_matrix(np.argmax(Y_test, axis = 1), y_pred), columns=labelNames, index=labelNames))\n",
        "try:\n",
        "    data_frame = pd.DataFrame(confusion_matrix(np.argmax(Y_test, axis = 1), y_pred), columns=labelNames, index=labelNames)\n",
        "    # data_frame.to_csv(r'./Confusion_Matrix/MNIST_Dropout/mnist_dropout_model_df.csv')\n",
        "    print(data_frame)\n",
        "except:\n",
        "    print(\"Couldn't save the confusion matrix\")"
      ],
      "execution_count": null,
      "outputs": [
        {
          "output_type": "stream",
          "text": [
            "            top  trouser  pullover  dress  ...  shirt  sneaker  bag  ankle boot\n",
            "top         148        0         1      4  ...     15        0    0           0\n",
            "trouser       1      195         0      0  ...      0        0    0           0\n",
            "pullover      5        0       196      1  ...     18        0    0           0\n",
            "dress         5        1         2    185  ...      2        0    0           0\n",
            "coat          0        0         6      2  ...     21        0    0           0\n",
            "sandal        0        0         0      0  ...      0        2    0           0\n",
            "shirt        14        1         9      5  ...    158        0    2           0\n",
            "sneaker       0        0         0      0  ...      0      205    0           1\n",
            "bag           0        0         0      0  ...      0        0  190           0\n",
            "ankle boot    0        0         0      0  ...      0       15    0         199\n",
            "\n",
            "[10 rows x 10 columns]\n"
          ],
          "name": "stdout"
        }
      ]
    },
    {
      "cell_type": "code",
      "metadata": {
        "id": "BFy8rLrGNqg4",
        "outputId": "c2319b4a-ea8e-4d4c-f1bc-beed71f61401",
        "colab": {
          "base_uri": "https://localhost:8080/",
          "height": 573
        }
      },
      "source": [
        "# Plotting the model for train and vaidation data\n",
        "plot_model()"
      ],
      "execution_count": null,
      "outputs": [
        {
          "output_type": "display_data",
          "data": {
            "image/png": "[encoded data removed]",
            "text/plain": [
              "<Figure size 432x288 with 1 Axes>"
            ]
          },
          "metadata": {
            "tags": [],
            "needs_background": "light"
          }
        },
        {
          "output_type": "display_data",
          "data": {
            "image/png": "[encoded data removed]",
            "text/plain": [
              "<Figure size 432x288 with 1 Axes>"
            ]
          },
          "metadata": {
            "tags": [],
            "needs_background": "light"
          }
        }
      ]
    }
  ]
}